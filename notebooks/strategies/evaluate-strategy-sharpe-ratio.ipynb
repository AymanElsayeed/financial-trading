{
 "cells": [
  {
   "metadata": {},
   "cell_type": "markdown",
   "source": [
    "# Evaluate strategy performance by Sharpe ratio\n",
    "\n",
    "The Sharpe ratio is a risk-adjusted return measure developed by Nobel laureate William F. Sharpe.\n",
    "\n",
    "It is calculated as the average return over the risk-free rate divided by the standard deviation of the excess return.\n",
    "\n",
    "$$Sharpe Ratio = \\frac{R_p - R_f}{\\sigma_p}$$\n",
    "\n",
    "Where:\n",
    "- $R_p$ is the return of the portfolio\n",
    "- $R_f$ is the risk-free rate\n",
    "- $\\sigma_p$ is the standard deviation of the portfolio return\n",
    "\n",
    "the bigger the Sharpe ratio, the better the strategy performance.\n"
   ],
   "id": "895bdfc89c00db8e"
  },
  {
   "metadata": {},
   "cell_type": "markdown",
   "source": [
    "## Objective:\n",
    "\n",
    "**Question** : Which strategy performs better?\n",
    "\n",
    "Strategy 1:\n",
    "- Annualized return: 15%\n",
    "- Volatility (standard deviation): 30%\n",
    "\n",
    "Strategy 2:\n",
    "- Annualized return: 10%\n",
    "- Volatility (standard deviation): 8%\n",
    "\n",
    "**Answer** :\n",
    "\n",
    "Strategy 1:\n",
    "- Sharpe ratio: 0.50\n",
    "\n",
    "Strategy 2:\n",
    "- Sharpe ratio: 1.25\n",
    "\n",
    "Strategy 2 performs better as it has a higher Sharpe ratio."
   ],
   "id": "16eec99d4adb07f0"
  },
  {
   "metadata": {},
   "cell_type": "markdown",
   "source": [
    "## Limitation of Sharpe ratio\n",
    "\n",
    "* Penalize the good and bad volatility equally\n",
    "* Upside volatility can skew the Sharpe ratio downwards"
   ],
   "id": "4c03ef92c00c40c"
  },
  {
   "metadata": {
    "ExecuteTime": {
     "end_time": "2024-07-22T08:37:36.852358Z",
     "start_time": "2024-07-22T08:37:36.849246Z"
    }
   },
   "cell_type": "code",
   "source": [
    "import pandas as pd\n",
    "import bt"
   ],
   "id": "a4e719d075a8fe3e",
   "outputs": [],
   "execution_count": 32
  },
  {
   "metadata": {
    "ExecuteTime": {
     "end_time": "2024-07-22T08:35:01.900802Z",
     "start_time": "2024-07-22T08:35:01.895194Z"
    }
   },
   "cell_type": "code",
   "source": "stock_data = pd.read_csv(\"../../assets/GOOG.csv\", index_col='Date', parse_dates=True)",
   "id": "46e9bbe8213f01f9",
   "outputs": [],
   "execution_count": 20
  },
  {
   "metadata": {
    "ExecuteTime": {
     "end_time": "2024-07-22T08:35:02.134477Z",
     "start_time": "2024-07-22T08:35:02.130947Z"
    }
   },
   "cell_type": "code",
   "source": "price_data = stock_data[['Close']]",
   "id": "a3d75268759237c1",
   "outputs": [],
   "execution_count": 21
  },
  {
   "metadata": {},
   "cell_type": "markdown",
   "source": "## Calculate the simple moving average",
   "id": "48eb5975917b6dbd"
  },
  {
   "metadata": {
    "ExecuteTime": {
     "end_time": "2024-07-22T08:38:41.814883Z",
     "start_time": "2024-07-22T08:38:41.812009Z"
    }
   },
   "cell_type": "code",
   "source": [
    "sma10 = price_data.rolling(10).mean()\n",
    "sma20 = price_data.rolling(20).mean()"
   ],
   "id": "4b40cf3662782109",
   "outputs": [],
   "execution_count": 33
  },
  {
   "metadata": {},
   "cell_type": "markdown",
   "source": [
    "## Create a strategies\n",
    "\n",
    "* Strategy 1: Buy when the price is above the 10-day moving average\n",
    "* Strategy 2: Buy when the price is above the 20-day moving average"
   ],
   "id": "edc032881c7c435c"
  },
  {
   "metadata": {
    "ExecuteTime": {
     "end_time": "2024-07-22T08:39:01.890384Z",
     "start_time": "2024-07-22T08:39:01.886667Z"
    }
   },
   "cell_type": "code",
   "source": [
    "bt_strategy_1 = bt.Strategy(\"SMA_10\", \n",
    "                          [bt.algos.SelectWhere(price_data>sma10),\n",
    "                           bt.algos.WeighEqually(),\n",
    "                           bt.algos.Rebalance()])\n",
    "\n",
    "bt_strategy_2 = bt.Strategy(\"SMA_20\", \n",
    "                          [bt.algos.SelectWhere(price_data>sma20),\n",
    "                           bt.algos.WeighEqually(),\n",
    "                           bt.algos.Rebalance()])"
   ],
   "id": "3c570d5ae59ff26e",
   "outputs": [],
   "execution_count": 34
  },
  {
   "metadata": {
    "ExecuteTime": {
     "end_time": "2024-07-22T08:39:30.192681Z",
     "start_time": "2024-07-22T08:39:30.189942Z"
    }
   },
   "cell_type": "code",
   "source": [
    "sma10 = bt.Backtest(bt_strategy_1, price_data)\n",
    "sma20 = bt.Backtest(bt_strategy_2, price_data)"
   ],
   "id": "3eb63d28318a87",
   "outputs": [],
   "execution_count": 35
  },
  {
   "metadata": {
    "ExecuteTime": {
     "end_time": "2024-07-22T08:39:46.615390Z",
     "start_time": "2024-07-22T08:39:46.255871Z"
    }
   },
   "cell_type": "code",
   "source": "bt_results_1 = bt.run(sma10)",
   "id": "a0540a478fc0f655",
   "outputs": [
    {
     "name": "stderr",
     "output_type": "stream",
     "text": [
      "100%|██████████| 1/1 [00:00<00:00,  2.90it/s]\n"
     ]
    }
   ],
   "execution_count": 36
  },
  {
   "metadata": {
    "ExecuteTime": {
     "end_time": "2024-07-22T08:39:52.790764Z",
     "start_time": "2024-07-22T08:39:52.433765Z"
    }
   },
   "cell_type": "code",
   "source": "bt_results_2 = bt.run(sma20)",
   "id": "24f59d50ac884185",
   "outputs": [
    {
     "name": "stderr",
     "output_type": "stream",
     "text": [
      "100%|██████████| 1/1 [00:00<00:00,  2.91it/s]\n"
     ]
    }
   ],
   "execution_count": 37
  },
  {
   "metadata": {
    "ExecuteTime": {
     "end_time": "2024-07-22T08:40:08.376573Z",
     "start_time": "2024-07-22T08:40:08.373544Z"
    }
   },
   "cell_type": "code",
   "source": [
    "resInfo_1 = bt_results_1.stats\n",
    "resInfo_2 = bt_results_2.stats"
   ],
   "id": "1a1513c5d16deeb7",
   "outputs": [],
   "execution_count": 38
  },
  {
   "metadata": {},
   "cell_type": "markdown",
   "source": "## Get annual return and volatility",
   "id": "f5506d298c5106e0"
  },
  {
   "metadata": {},
   "cell_type": "markdown",
   "source": "### Strategy 1",
   "id": "dccf4fd21e021d92"
  },
  {
   "metadata": {
    "ExecuteTime": {
     "end_time": "2024-07-22T08:41:37.203142Z",
     "start_time": "2024-07-22T08:41:37.200949Z"
    }
   },
   "cell_type": "code",
   "source": [
    "yearly_return_1 = resInfo_1.loc['yearly_mean']\n",
    "print('Annual return: %.2f'% yearly_return_1)\n",
    "yearly_vol_1 = resInfo_1.loc['yearly_vol']\n",
    "print('Annual volatility: %.2f'% yearly_vol_1)\n"
   ],
   "id": "1fe6f5c4619c2c85",
   "outputs": [
    {
     "name": "stdout",
     "output_type": "stream",
     "text": [
      "Annual return: -0.02\n",
      "Annual volatility: 0.08\n"
     ]
    },
    {
     "name": "stderr",
     "output_type": "stream",
     "text": [
      "/var/folders/c9/hdy5dxw96bv2pbcnscrcgglm0000gn/T/ipykernel_40949/3139597714.py:2: FutureWarning: Calling float on a single element Series is deprecated and will raise a TypeError in the future. Use float(ser.iloc[0]) instead\n",
      "  print('Annual return: %.2f'% yearly_return_1)\n",
      "/var/folders/c9/hdy5dxw96bv2pbcnscrcgglm0000gn/T/ipykernel_40949/3139597714.py:4: FutureWarning: Calling float on a single element Series is deprecated and will raise a TypeError in the future. Use float(ser.iloc[0]) instead\n",
      "  print('Annual volatility: %.2f'% yearly_vol_1)\n"
     ]
    }
   ],
   "execution_count": 45
  },
  {
   "metadata": {},
   "cell_type": "markdown",
   "source": "### Strategy 2",
   "id": "87625744a5fbf49b"
  },
  {
   "metadata": {
    "ExecuteTime": {
     "end_time": "2024-07-22T08:41:38.256356Z",
     "start_time": "2024-07-22T08:41:38.254032Z"
    }
   },
   "cell_type": "code",
   "source": [
    "yearly_return_2 = resInfo_2.loc['yearly_mean']\n",
    "print('Annual return: %.2f'% yearly_return_2)\n",
    "yearly_vol_2 = resInfo_2.loc['yearly_vol']\n",
    "print('Annual volatility: %.2f'% yearly_vol_2)"
   ],
   "id": "b4112dff6f7d8dbd",
   "outputs": [
    {
     "name": "stdout",
     "output_type": "stream",
     "text": [
      "Annual return: 0.09\n",
      "Annual volatility: 0.13\n"
     ]
    },
    {
     "name": "stderr",
     "output_type": "stream",
     "text": [
      "/var/folders/c9/hdy5dxw96bv2pbcnscrcgglm0000gn/T/ipykernel_40949/1489884023.py:2: FutureWarning: Calling float on a single element Series is deprecated and will raise a TypeError in the future. Use float(ser.iloc[0]) instead\n",
      "  print('Annual return: %.2f'% yearly_return_2)\n",
      "/var/folders/c9/hdy5dxw96bv2pbcnscrcgglm0000gn/T/ipykernel_40949/1489884023.py:4: FutureWarning: Calling float on a single element Series is deprecated and will raise a TypeError in the future. Use float(ser.iloc[0]) instead\n",
      "  print('Annual volatility: %.2f'% yearly_vol_2)\n"
     ]
    }
   ],
   "execution_count": 46
  },
  {
   "metadata": {},
   "cell_type": "markdown",
   "source": "## Calculate the Sharpe ratio manually",
   "id": "40bc542a8cec608a"
  },
  {
   "metadata": {},
   "cell_type": "markdown",
   "source": "### Strategy 1",
   "id": "ce1f46f7d2067a51"
  },
  {
   "metadata": {
    "ExecuteTime": {
     "end_time": "2024-07-22T08:42:53.583327Z",
     "start_time": "2024-07-22T08:42:53.578790Z"
    }
   },
   "cell_type": "code",
   "source": [
    "sharpe_ratio_1 = yearly_return_1 / yearly_vol_1\n",
    "print('Sharpe ratio calculated: %.2f'% sharpe_ratio_1)\n",
    "\n",
    "sharpe_ratio_1 = resInfo_1.loc['yearly_sharpe']\n",
    "\n",
    "print('Sharpe ratio calculated: %.2f'% sharpe_ratio_1)"
   ],
   "id": "bffb3544fb6360d9",
   "outputs": [
    {
     "name": "stdout",
     "output_type": "stream",
     "text": [
      "Sharpe ratio calculated: -0.18\n",
      "Sharpe ratio calculated: -0.18\n"
     ]
    },
    {
     "name": "stderr",
     "output_type": "stream",
     "text": [
      "/var/folders/c9/hdy5dxw96bv2pbcnscrcgglm0000gn/T/ipykernel_40949/4011634250.py:2: FutureWarning: Calling float on a single element Series is deprecated and will raise a TypeError in the future. Use float(ser.iloc[0]) instead\n",
      "  print('Sharpe ratio calculated: %.2f'% sharpe_ratio_1)\n",
      "/var/folders/c9/hdy5dxw96bv2pbcnscrcgglm0000gn/T/ipykernel_40949/4011634250.py:6: FutureWarning: Calling float on a single element Series is deprecated and will raise a TypeError in the future. Use float(ser.iloc[0]) instead\n",
      "  print('Sharpe ratio calculated: %.2f'% sharpe_ratio_1)\n"
     ]
    }
   ],
   "execution_count": 51
  },
  {
   "metadata": {},
   "cell_type": "markdown",
   "source": "### Strategy 2",
   "id": "6ebe94e2baeec202"
  },
  {
   "metadata": {
    "ExecuteTime": {
     "end_time": "2024-07-22T08:43:37.698327Z",
     "start_time": "2024-07-22T08:43:37.693744Z"
    }
   },
   "cell_type": "code",
   "source": [
    "sharpe_ratio_2 = yearly_return_2 / yearly_vol_2\n",
    "print('Sharpe ratio calculated: %.2f'% sharpe_ratio_2)\n",
    "\n",
    "sharpe_ratio_2 = resInfo_2.loc['yearly_sharpe']\n",
    "\n",
    "print('Sharpe ratio calculated: %.2f'% sharpe_ratio_2)"
   ],
   "id": "3d349ec5f702fd9e",
   "outputs": [
    {
     "name": "stdout",
     "output_type": "stream",
     "text": [
      "Sharpe ratio calculated: 0.66\n",
      "Sharpe ratio calculated: 0.66\n"
     ]
    },
    {
     "name": "stderr",
     "output_type": "stream",
     "text": [
      "/var/folders/c9/hdy5dxw96bv2pbcnscrcgglm0000gn/T/ipykernel_40949/1608309812.py:2: FutureWarning: Calling float on a single element Series is deprecated and will raise a TypeError in the future. Use float(ser.iloc[0]) instead\n",
      "  print('Sharpe ratio calculated: %.2f'% sharpe_ratio_2)\n",
      "/var/folders/c9/hdy5dxw96bv2pbcnscrcgglm0000gn/T/ipykernel_40949/1608309812.py:6: FutureWarning: Calling float on a single element Series is deprecated and will raise a TypeError in the future. Use float(ser.iloc[0]) instead\n",
      "  print('Sharpe ratio calculated: %.2f'% sharpe_ratio_2)\n"
     ]
    }
   ],
   "execution_count": 55
  },
  {
   "metadata": {},
   "cell_type": "markdown",
   "source": "## Print the Sharpe ratio",
   "id": "e330887260627cbb"
  },
  {
   "metadata": {},
   "cell_type": "markdown",
   "source": "### Strategy 1",
   "id": "3b960cbad7bac30b"
  },
  {
   "metadata": {
    "ExecuteTime": {
     "end_time": "2024-07-22T08:42:58.260141Z",
     "start_time": "2024-07-22T08:42:58.257143Z"
    }
   },
   "cell_type": "code",
   "source": "print('Sharpe ratio %.2f'% resInfo_1.loc['yearly_sharpe'])",
   "id": "12653c94ca0bafe7",
   "outputs": [
    {
     "name": "stdout",
     "output_type": "stream",
     "text": [
      "Sharpe ratio -0.18\n"
     ]
    },
    {
     "name": "stderr",
     "output_type": "stream",
     "text": [
      "/var/folders/c9/hdy5dxw96bv2pbcnscrcgglm0000gn/T/ipykernel_40949/60275055.py:1: FutureWarning: Calling float on a single element Series is deprecated and will raise a TypeError in the future. Use float(ser.iloc[0]) instead\n",
      "  print('Sharpe ratio %.2f'% resInfo_1.loc['yearly_sharpe'])\n"
     ]
    }
   ],
   "execution_count": 53
  },
  {
   "metadata": {},
   "cell_type": "markdown",
   "source": "### Strategy 2",
   "id": "4f382274b5ab6c9b"
  },
  {
   "metadata": {
    "ExecuteTime": {
     "end_time": "2024-07-22T08:42:58.963432Z",
     "start_time": "2024-07-22T08:42:58.960194Z"
    }
   },
   "cell_type": "code",
   "source": "print('Sharpe ratio %.2f'% resInfo_2.loc['yearly_sharpe'])",
   "id": "dd35e110dc6430f",
   "outputs": [
    {
     "name": "stdout",
     "output_type": "stream",
     "text": [
      "Sharpe ratio 0.66\n"
     ]
    },
    {
     "name": "stderr",
     "output_type": "stream",
     "text": [
      "/var/folders/c9/hdy5dxw96bv2pbcnscrcgglm0000gn/T/ipykernel_40949/3403686669.py:1: FutureWarning: Calling float on a single element Series is deprecated and will raise a TypeError in the future. Use float(ser.iloc[0]) instead\n",
      "  print('Sharpe ratio %.2f'% resInfo_2.loc['yearly_sharpe'])\n"
     ]
    }
   ],
   "execution_count": 54
  },
  {
   "metadata": {},
   "cell_type": "code",
   "outputs": [],
   "execution_count": null,
   "source": "",
   "id": "288dea3617bbb261"
  }
 ],
 "metadata": {
  "kernelspec": {
   "display_name": "Python 3",
   "language": "python",
   "name": "python3"
  },
  "language_info": {
   "codemirror_mode": {
    "name": "ipython",
    "version": 2
   },
   "file_extension": ".py",
   "mimetype": "text/x-python",
   "name": "python",
   "nbconvert_exporter": "python",
   "pygments_lexer": "ipython2",
   "version": "2.7.6"
  }
 },
 "nbformat": 4,
 "nbformat_minor": 5
}

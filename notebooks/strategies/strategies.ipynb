{
 "cells": [
  {
   "metadata": {},
   "cell_type": "markdown",
   "source": "# Trading Strategies",
   "id": "134eb033c6fe8dac"
  },
  {
   "metadata": {},
   "cell_type": "markdown",
   "source": [
    "## Trend Following Strategy\n",
    "\n",
    "Momentum strategies are based on the assumption that assets that have performed well in the past will continue to perform well in the future, and assets that have performed poorly will continue to perform poorly.\n",
    "\n",
    "* Bet on the continuation of the current trend\n",
    "* Use trend indicators (as ADX) to identify the direction of the trend\n",
    "\n",
    "Strategies:\n",
    "\n",
    "* Moving Average Based Strategies\n",
    "* MA Crossover Strategy\n",
    "\n",
    "\n",
    "Examples:\n",
    "* You short the Twitter stock because its 12-day SMA has crossed below its 26-day SMA.\n",
    "* You long Bitcoin because the price is picking up momentum and has risen above its 50-day moving average.\n",
    "* You long the GameStop stock because its 10-day EMA has crossed above its 50-day EMA."
   ],
   "id": "b2f254619072563d"
  },
  {
   "metadata": {},
   "cell_type": "markdown",
   "source": [
    "## Mean Reversion Strategy\n",
    "\n",
    "Buy the fear, sell the greed. Mean reversion strategies are based on the assumption that the price of an asset will eventually revert back to its mean or average price.\n",
    "\n",
    "* Bet the price will revert back to the mean\n",
    "* Use oscillators (as RSI, Bollinger Bands) to construct trading signals\n",
    "\n",
    "Examples:\n",
    "\n",
    "* You short the Tesla stock because it just had a big price jump and the RSI has reached\n",
    "80\n",
    "* You short the Facebook stock because its price has risen a lot recently and is now above the upper band of the Bollinger Bands.\n",
    "* You long the Uber stock because its price has dropped a lot recently and its RSI has reached 25."
   ],
   "id": "cf32ac948164fb5a"
  },
  {
   "metadata": {},
   "cell_type": "markdown",
   "source": "",
   "id": "6ccfc8b078fd7417"
  }
 ],
 "metadata": {
  "kernelspec": {
   "display_name": "Python 3",
   "language": "python",
   "name": "python3"
  },
  "language_info": {
   "codemirror_mode": {
    "name": "ipython",
    "version": 2
   },
   "file_extension": ".py",
   "mimetype": "text/x-python",
   "name": "python",
   "nbconvert_exporter": "python",
   "pygments_lexer": "ipython2",
   "version": "2.7.6"
  }
 },
 "nbformat": 4,
 "nbformat_minor": 5
}

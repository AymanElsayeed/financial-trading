{
 "cells": [
  {
   "metadata": {},
   "cell_type": "markdown",
   "source": "# Trading Strategies",
   "id": "134eb033c6fe8dac"
  },
  {
   "metadata": {},
   "cell_type": "markdown",
   "source": [
    "## Trend Following Strategy\n",
    "\n",
    "Momentum strategies are based on the assumption that assets that have performed well in the past will continue to perform well in the future, and assets that have performed poorly will continue to perform poorly.\n",
    "\n",
    "* Bet on the continuation of the current trend\n",
    "* Use trend indicators (as ADX) to identify the direction of the trend\n",
    "\n",
    "Examples:\n",
    "\n",
    "* Moving Average Based Strategies\n",
    "* MA Crossover Strategy"
   ],
   "id": "b2f254619072563d"
  },
  {
   "metadata": {},
   "cell_type": "markdown",
   "source": "## Mean Reversion Strategy",
   "id": "cf32ac948164fb5a"
  },
  {
   "metadata": {},
   "cell_type": "markdown",
   "source": [
    "* Bet the price will revert back to the mean\n",
    "* Use oscillators (as RSI, Bollinger Bands) to construct trading signals"
   ],
   "id": "6ccfc8b078fd7417"
  },
  {
   "metadata": {},
   "cell_type": "code",
   "outputs": [],
   "execution_count": null,
   "source": "",
   "id": "94accc3f809e2e22"
  }
 ],
 "metadata": {
  "kernelspec": {
   "display_name": "Python 3",
   "language": "python",
   "name": "python3"
  },
  "language_info": {
   "codemirror_mode": {
    "name": "ipython",
    "version": 2
   },
   "file_extension": ".py",
   "mimetype": "text/x-python",
   "name": "python",
   "nbconvert_exporter": "python",
   "pygments_lexer": "ipython2",
   "version": "2.7.6"
  }
 },
 "nbformat": 4,
 "nbformat_minor": 5
}

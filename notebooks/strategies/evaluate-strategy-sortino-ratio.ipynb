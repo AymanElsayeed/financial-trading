{
 "cells": [
  {
   "metadata": {},
   "cell_type": "markdown",
   "source": [
    "# Evaluate strategy performance by Sortino ratio\n",
    "\n",
    "The Sortino ratio is the excess return over the risk-free rate divided by the downside deviation, and thus it measures the excess return to \"bad\" volatility.\n",
    "\n",
    "In other words, it doesn't penalize the volatility of positive excess returns.\n",
    "\n",
    "\n",
    "$$Sortino = \\frac{R_p - R_f}{\\sigma_{downside}}$$\n",
    "\n",
    "where:\n",
    "- $R_p$ is the portfolio return\n",
    "- $R_f$ is the risk-free rate\n",
    "- $\\sigma_{downside}$ is the downside deviation of the excess $R_p-R_f$\n",
    "\n",
    "\n",
    "The bigger the Sortino ratio, the better the strategy performance.\n",
    "\n"
   ],
   "id": "7a6cfde5c49210d"
  },
  {
   "metadata": {},
   "cell_type": "markdown",
   "source": "",
   "id": "8ec85110258eeb09"
  },
  {
   "metadata": {
    "ExecuteTime": {
     "end_time": "2024-07-22T08:46:53.863631Z",
     "start_time": "2024-07-22T08:46:52.758675Z"
    }
   },
   "cell_type": "code",
   "source": [
    "import pandas as pd\n",
    "import bt"
   ],
   "id": "36fec462c43586d0",
   "outputs": [],
   "execution_count": 1
  },
  {
   "metadata": {
    "ExecuteTime": {
     "end_time": "2024-07-22T08:50:06.647620Z",
     "start_time": "2024-07-22T08:50:06.639604Z"
    }
   },
   "cell_type": "code",
   "source": "stock_data = pd.read_csv(\"../../assets/GOOG.csv\", index_col='Date', parse_dates=True)",
   "id": "5b02ad868ffe1fa4",
   "outputs": [],
   "execution_count": 13
  },
  {
   "metadata": {
    "ExecuteTime": {
     "end_time": "2024-07-22T08:50:06.916989Z",
     "start_time": "2024-07-22T08:50:06.913141Z"
    }
   },
   "cell_type": "code",
   "source": "price_data = stock_data[['Close']]",
   "id": "3e533bd24a4e26b5",
   "outputs": [],
   "execution_count": 14
  },
  {
   "metadata": {},
   "cell_type": "markdown",
   "source": "## Calculate the simple moving average",
   "id": "1978c98938e644a2"
  },
  {
   "metadata": {
    "ExecuteTime": {
     "end_time": "2024-07-22T08:50:07.134318Z",
     "start_time": "2024-07-22T08:50:07.131607Z"
    }
   },
   "cell_type": "code",
   "source": [
    "sma20 = price_data.rolling(20).mean()\n",
    "sma40 = price_data.rolling(40).mean()"
   ],
   "id": "d8eb9002dfe0feeb",
   "outputs": [],
   "execution_count": 15
  },
  {
   "metadata": {},
   "cell_type": "markdown",
   "source": [
    "## Create a strategies\n",
    "\n",
    "* Strategy 1: Buy when the price is above the 20-day moving average\n",
    "* Strategy 2: Buy when the price is above the 40-day moving average"
   ],
   "id": "a20551972b435a1b"
  },
  {
   "metadata": {
    "ExecuteTime": {
     "end_time": "2024-07-22T08:50:07.355501Z",
     "start_time": "2024-07-22T08:50:07.352693Z"
    }
   },
   "cell_type": "code",
   "source": [
    "bt_strategy_1 = bt.Strategy(\"SMA_20\", \n",
    "                          [bt.algos.SelectWhere(price_data>sma20),\n",
    "                           bt.algos.WeighEqually(),\n",
    "                           bt.algos.Rebalance()])\n",
    "\n",
    "bt_strategy_2 = bt.Strategy(\"SMA_40\", \n",
    "                          [bt.algos.SelectWhere(price_data>sma40),\n",
    "                           bt.algos.WeighEqually(),\n",
    "                           bt.algos.Rebalance()])"
   ],
   "id": "d947d65d745d8f77",
   "outputs": [],
   "execution_count": 16
  },
  {
   "metadata": {
    "ExecuteTime": {
     "end_time": "2024-07-22T08:50:07.599312Z",
     "start_time": "2024-07-22T08:50:07.595113Z"
    }
   },
   "cell_type": "code",
   "source": [
    "sma20 = bt.Backtest(bt_strategy_1, price_data)\n",
    "sma40 = bt.Backtest(bt_strategy_2, price_data)"
   ],
   "id": "2181b16f30fa69c9",
   "outputs": [],
   "execution_count": 17
  },
  {
   "metadata": {
    "ExecuteTime": {
     "end_time": "2024-07-22T08:50:08.169853Z",
     "start_time": "2024-07-22T08:50:07.818153Z"
    }
   },
   "cell_type": "code",
   "source": "bt_results_1 = bt.run(sma20)",
   "id": "fc0c25681c9201fa",
   "outputs": [
    {
     "name": "stderr",
     "output_type": "stream",
     "text": [
      "100%|██████████| 1/1 [00:00<00:00,  2.95it/s]\n"
     ]
    }
   ],
   "execution_count": 18
  },
  {
   "metadata": {
    "ExecuteTime": {
     "end_time": "2024-07-22T08:50:08.524178Z",
     "start_time": "2024-07-22T08:50:08.170906Z"
    }
   },
   "cell_type": "code",
   "source": "bt_results_2 = bt.run(sma40)",
   "id": "1cbb762d98c1ec3a",
   "outputs": [
    {
     "name": "stderr",
     "output_type": "stream",
     "text": [
      "100%|██████████| 1/1 [00:00<00:00,  2.95it/s]\n"
     ]
    }
   ],
   "execution_count": 19
  },
  {
   "metadata": {
    "ExecuteTime": {
     "end_time": "2024-07-22T08:50:08.527035Z",
     "start_time": "2024-07-22T08:50:08.525225Z"
    }
   },
   "cell_type": "code",
   "source": [
    "resInfo_1 = bt_results_1.stats\n",
    "resInfo_2 = bt_results_2.stats"
   ],
   "id": "e76d316077122fbd",
   "outputs": [],
   "execution_count": 20
  },
  {
   "metadata": {},
   "cell_type": "markdown",
   "source": "## Get the Sortino ratio",
   "id": "a95b557c2bfbe7bd"
  },
  {
   "metadata": {},
   "cell_type": "markdown",
   "source": "### Strategy 1",
   "id": "e2485efe67ec51b2"
  },
  {
   "metadata": {
    "ExecuteTime": {
     "end_time": "2024-07-22T08:59:32.659562Z",
     "start_time": "2024-07-22T08:59:32.656441Z"
    }
   },
   "cell_type": "code",
   "source": [
    "print('Annual Sortino ratio: %.2f'% resInfo_1.loc['yearly_sortino'])\n",
    "\n",
    "print('Monthly Sortino ratio %.2f'% resInfo_1.loc['monthly_sortino'])"
   ],
   "id": "2998517405ec944a",
   "outputs": [
    {
     "name": "stdout",
     "output_type": "stream",
     "text": [
      "Annual Sortino ratio: 3.74\n",
      "Monthly Sortino ratio 1.11\n"
     ]
    },
    {
     "name": "stderr",
     "output_type": "stream",
     "text": [
      "/var/folders/c9/hdy5dxw96bv2pbcnscrcgglm0000gn/T/ipykernel_41292/1893443392.py:1: FutureWarning: Calling float on a single element Series is deprecated and will raise a TypeError in the future. Use float(ser.iloc[0]) instead\n",
      "  print('Annual Sortino ratio: %.2f'% resInfo_1.loc['yearly_sortino'])\n",
      "/var/folders/c9/hdy5dxw96bv2pbcnscrcgglm0000gn/T/ipykernel_41292/1893443392.py:3: FutureWarning: Calling float on a single element Series is deprecated and will raise a TypeError in the future. Use float(ser.iloc[0]) instead\n",
      "  print('Monthly Sortino ratio %.2f'% resInfo_1.loc['monthly_sortino'])\n"
     ]
    }
   ],
   "execution_count": 26
  },
  {
   "metadata": {},
   "cell_type": "markdown",
   "source": "### Strategy 2",
   "id": "4807028c6b7ece8b"
  },
  {
   "metadata": {
    "ExecuteTime": {
     "end_time": "2024-07-22T08:59:23.404679Z",
     "start_time": "2024-07-22T08:59:23.401524Z"
    }
   },
   "cell_type": "code",
   "source": [
    "print('Annual Sortino ratio: %.2f'% resInfo_2.loc['yearly_sortino'])\n",
    "\n",
    "print('Monthly Sortino ratio %.2f'% resInfo_2.loc['monthly_sortino'])"
   ],
   "id": "6ad7db00eee4310e",
   "outputs": [
    {
     "name": "stdout",
     "output_type": "stream",
     "text": [
      "Annual Sortino ratio: 4.94\n",
      "Monthly Sortino ratio 1.66\n"
     ]
    },
    {
     "name": "stderr",
     "output_type": "stream",
     "text": [
      "/var/folders/c9/hdy5dxw96bv2pbcnscrcgglm0000gn/T/ipykernel_41292/1140436314.py:1: FutureWarning: Calling float on a single element Series is deprecated and will raise a TypeError in the future. Use float(ser.iloc[0]) instead\n",
      "  print('Annual Sortino ratio: %.2f'% resInfo_2.loc['yearly_sortino'])\n",
      "/var/folders/c9/hdy5dxw96bv2pbcnscrcgglm0000gn/T/ipykernel_41292/1140436314.py:3: FutureWarning: Calling float on a single element Series is deprecated and will raise a TypeError in the future. Use float(ser.iloc[0]) instead\n",
      "  print('Monthly Sortino ratio %.2f'% resInfo_2.loc['monthly_sortino'])\n"
     ]
    }
   ],
   "execution_count": 25
  },
  {
   "metadata": {},
   "cell_type": "code",
   "outputs": [],
   "execution_count": null,
   "source": "",
   "id": "9c4a11e1a391d6dd"
  }
 ],
 "metadata": {
  "kernelspec": {
   "display_name": "Python 3",
   "language": "python",
   "name": "python3"
  },
  "language_info": {
   "codemirror_mode": {
    "name": "ipython",
    "version": 2
   },
   "file_extension": ".py",
   "mimetype": "text/x-python",
   "name": "python",
   "nbconvert_exporter": "python",
   "pygments_lexer": "ipython2",
   "version": "2.7.6"
  }
 },
 "nbformat": 4,
 "nbformat_minor": 5
}
